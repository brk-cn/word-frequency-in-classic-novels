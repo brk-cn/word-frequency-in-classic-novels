{
 "cells": [
  {
   "cell_type": "code",
   "execution_count": 1,
   "id": "9c8ca902-8765-41b1-ae90-c1681ae28a30",
   "metadata": {},
   "outputs": [
    {
     "name": "stdout",
     "output_type": "stream",
     "text": [
      "{'id': '2701', 'title': 'Moby Dick; Or, The Whale'}\n",
      "{'id': '84', 'title': 'Frankenstein; Or, The Modern Prometheus'}\n",
      "{'id': '1342', 'title': 'Pride and Prejudice'}\n",
      "{'id': '1513', 'title': 'Romeo and Juliet'}\n",
      "{'id': '145', 'title': 'Middlemarch'}\n",
      "{'id': '2641', 'title': 'A Room with a View'}\n",
      "{'id': '37106', 'title': 'Little Women; Or, Meg, Jo, Beth, and Amy'}\n",
      "{'id': '100', 'title': 'The Complete Works of William Shakespeare'}\n",
      "{'id': '67979', 'title': 'The Blue Castle: a novel'}\n",
      "{'id': '16389', 'title': 'The Enchanted April'}\n"
     ]
    }
   ],
   "source": [
    "import requests\n",
    "from bs4 import BeautifulSoup\n",
    "\n",
    "popular_books = []\n",
    "\n",
    "response = requests.get('https://www.gutenberg.org/ebooks/search/?sort_order=downloads')\n",
    "\n",
    "if response.status_code == 200:\n",
    "    soup = BeautifulSoup(response.text, 'html.parser')\n",
    "    books = soup.find_all('li', class_='booklink')[:10]\n",
    "    for book in books:\n",
    "        book_id = book.find('a', class_='link')['href'].split('/')[-1]\n",
    "        book_title = book.find('span', class_='title').text.strip()\n",
    "        popular_books.append({'id' : book_id, 'title' : book_title})\n",
    "else:\n",
    "    print(response.status_code)\n",
    "\n",
    "for book in popular_books:\n",
    "    print(book)"
   ]
  },
  {
   "cell_type": "code",
   "execution_count": 2,
   "id": "6922d7ff-85bb-4b94-83d5-f0262adc6909",
   "metadata": {},
   "outputs": [
    {
     "data": {
      "text/plain": [
       "'<!DOCTYPE html PUBLIC \"-//W3C//DTD XHTML 1.0 Strict//EN\"\\r\\n\"http://www.w3.org/TR/xhtml1/DTD/xhtml1-strict.dtd\">\\r\\n<html xmlns=\"http://www.w3.org/1999/xhtml\" xml:lang=\"en\" lang=\"en\">\\r\\n<head>\\r\\n<meta http-equiv=\"Content-Type\" content=\"text/html;charset=utf-8\" />\\r\\n<meta http-equiv=\"Content-Style-Type\" content=\"text/css\" />\\r\\n<title>The Project Gutenberg eBook of Moby Dick; Or the Whale, by Herman Melville</title>\\r\\n\\r\\n<style type=\"text/css\" xml:space=\"preserve\">\\r\\n\\r\\n    body {margin-left:15%; margin-right:15%; text-align:justify }\\r\\n    p { text-indent: 1em; margin-top: .25em; margin-bottom: .25em; }\\r\\n    H1,H2,H3,H4,H5,H6 { text-align: center; margin-left: 15%; margin-right: 15%; }\\r\\n    hr  { width: 50%; text-align: center;}\\r\\n    blockquote {font-size: 100%; margin-left: 0%; margin-right: 0%;}\\r\\n    .mynote    {background-color: #DDE; color: #000; padding: .5em; margin-left: 10%; margin-right: 10%; font-family: sans-serif; font-size: 95%;}\\r\\n    .toc       { margin-left: 10%; margin-bottom: .75em;'"
      ]
     },
     "execution_count": 2,
     "metadata": {},
     "output_type": "execute_result"
    }
   ],
   "source": [
    "import random\n",
    "\n",
    "id = random.choice(popular_books)['id']\n",
    "url = f\"https://www.gutenberg.org/files/{id}/{id}-h/{id}-h.htm\"\n",
    "    \n",
    "r = requests.get(url)\n",
    "r.encoding = 'utf-8'\n",
    "html = r.text\n",
    "    \n",
    "html[:1000]"
   ]
  },
  {
   "cell_type": "code",
   "execution_count": 3,
   "id": "3f53e0eb-ce38-49c3-9c0a-3b277a793f19",
   "metadata": {},
   "outputs": [
    {
     "data": {
      "text/plain": [
       "'\\n\\n\\n\\n\\nThe Project Gutenberg eBook of Moby Dick; Or the Whale, by Herman Melville\\n\\n\\n\\nThe Project Gutenberg eBook of Moby-Dick; or The Whale, by Herman Melville\\n\\r\\nThis eBook is for the use of anyone anywhere in the United States and\\r\\nmost other parts of the world at no cost and with almost no restrictions\\r\\nwhatsoever. You may copy it, give it away or re-use it under the terms\\r\\nof the Project Gutenberg License included with this eBook or online\\r\\nat www.gutenberg.org. If you\\r\\nare not located in the United States, you will have to check the laws of the\\r\\ncountry where you are located before using this eBook.\\r\\n\\nTitle: Moby-Dick; or The Whale\\nAuthor: Herman Melville\\nRelease Date: June, 2001 [eBook #2701]\\r\\n[Most recently updated: August 18, 2021]\\nLanguage: English\\nCharacter set encoding: UTF-8\\nProduced by: Daniel Lazarus, Jonesey, and David Widger\\n*** START OF THE PROJECT GUTENBERG EBOOK MOBY-DICK; OR THE WHALE ***\\n\\r\\n      MOBY-DICK;or, THE WHALE.\\r\\n    \\n\\n\\n\\n\\r\\n      By Herman Melville\\r\\n    \\n\\n \\n\\n\\n\\n'"
      ]
     },
     "execution_count": 3,
     "metadata": {},
     "output_type": "execute_result"
    }
   ],
   "source": [
    "soup = BeautifulSoup(html, 'html.parser')\n",
    "text = soup.get_text()\n",
    "\n",
    "text[:1000]"
   ]
  },
  {
   "cell_type": "code",
   "execution_count": 4,
   "id": "8d4ee041-3669-4c0e-bc3d-d8fc1d5b6c95",
   "metadata": {},
   "outputs": [
    {
     "data": {
      "text/plain": [
       "['The',\n",
       " 'Project',\n",
       " 'Gutenberg',\n",
       " 'eBook',\n",
       " 'of',\n",
       " 'Moby',\n",
       " 'Dick',\n",
       " 'Or',\n",
       " 'the',\n",
       " 'Whale']"
      ]
     },
     "execution_count": 4,
     "metadata": {},
     "output_type": "execute_result"
    }
   ],
   "source": [
    "import nltk\n",
    "\n",
    "tokenizer = nltk.tokenize.RegexpTokenizer('\\\\w+')\n",
    "tokens = tokenizer.tokenize(text)\n",
    "\n",
    "tokens[:10]"
   ]
  },
  {
   "cell_type": "code",
   "execution_count": 5,
   "id": "ba2c25be-5843-4148-8aa5-53c61abc0271",
   "metadata": {},
   "outputs": [
    {
     "data": {
      "text/plain": [
       "['the',\n",
       " 'project',\n",
       " 'gutenberg',\n",
       " 'ebook',\n",
       " 'of',\n",
       " 'moby',\n",
       " 'dick',\n",
       " 'or',\n",
       " 'the',\n",
       " 'whale']"
      ]
     },
     "execution_count": 5,
     "metadata": {},
     "output_type": "execute_result"
    }
   ],
   "source": [
    "words = [token.lower() for token in tokens]\n",
    "\n",
    "words[:10]"
   ]
  },
  {
   "cell_type": "code",
   "execution_count": 6,
   "id": "f07dbfe7-f0a5-4ef4-94dc-c198e93008ad",
   "metadata": {},
   "outputs": [
    {
     "data": {
      "text/plain": [
       "['i', 'me', 'my', 'myself', 'we', 'our', 'ours', 'ourselves', 'you', \"you're\"]"
      ]
     },
     "execution_count": 6,
     "metadata": {},
     "output_type": "execute_result"
    }
   ],
   "source": [
    "# nltk.download('stopwords')\n",
    "\n",
    "stopwords = nltk.corpus.stopwords.words('english')\n",
    "\n",
    "stopwords[:10]"
   ]
  },
  {
   "cell_type": "code",
   "execution_count": 7,
   "id": "3aa44e8e-41d1-46e8-a957-6ac93cf8873a",
   "metadata": {},
   "outputs": [
    {
     "data": {
      "text/plain": [
       "['project',\n",
       " 'gutenberg',\n",
       " 'ebook',\n",
       " 'moby',\n",
       " 'dick',\n",
       " 'whale',\n",
       " 'herman',\n",
       " 'melville',\n",
       " 'project',\n",
       " 'gutenberg']"
      ]
     },
     "execution_count": 7,
     "metadata": {},
     "output_type": "execute_result"
    }
   ],
   "source": [
    "words_ = [word for word in words if word not in stopwords]\n",
    "\n",
    "words_[:10]"
   ]
  },
  {
   "cell_type": "code",
   "execution_count": 8,
   "id": "77d2d6cc-9ce6-48ff-8d37-0bdef3fb8776",
   "metadata": {},
   "outputs": [
    {
     "name": "stdout",
     "output_type": "stream",
     "text": [
      "[('whale', 1244), ('one', 925), ('like', 647), ('upon', 568), ('man', 527), ('ship', 519), ('ahab', 517), ('ye', 473), ('sea', 455), ('old', 452), ('would', 432), ('though', 384), ('head', 348), ('yet', 345), ('boat', 337), ('long', 334), ('time', 334), ('captain', 329), ('still', 312), ('chapter', 308)]\n"
     ]
    }
   ],
   "source": [
    "from collections import Counter\n",
    "\n",
    "count = Counter(words_)\n",
    "print(count.most_common(20))"
   ]
  },
  {
   "cell_type": "code",
   "execution_count": null,
   "id": "fe925e41-90d2-4f37-8ec1-d8293615edb5",
   "metadata": {},
   "outputs": [],
   "source": []
  }
 ],
 "metadata": {
  "kernelspec": {
   "display_name": "Python 3 (ipykernel)",
   "language": "python",
   "name": "python3"
  },
  "language_info": {
   "codemirror_mode": {
    "name": "ipython",
    "version": 3
   },
   "file_extension": ".py",
   "mimetype": "text/x-python",
   "name": "python",
   "nbconvert_exporter": "python",
   "pygments_lexer": "ipython3",
   "version": "3.12.1"
  }
 },
 "nbformat": 4,
 "nbformat_minor": 5
}
